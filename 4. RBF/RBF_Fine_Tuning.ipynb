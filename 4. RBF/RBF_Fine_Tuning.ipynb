{
  "cells": [
    {
      "cell_type": "markdown",
      "source": [
        "## GEORGIOS KOUTROUMPIS, AEM 9668\n",
        "### ECE AUTh, 2022\n",
        "### Computational Intelligence\n",
        "#### Project 4, RBF"
      ],
      "metadata": {
        "id": "6GcxOU7hDUPu"
      }
    },
    {
      "cell_type": "code",
      "execution_count": null,
      "metadata": {
        "colab": {
          "base_uri": "https://localhost:8080/"
        },
        "id": "RQSPalNwSL7B",
        "outputId": "37209877-a168-44af-df3e-90744142e355"
      },
      "outputs": [
        {
          "name": "stdout",
          "output_type": "stream",
          "text": [
            "\u001b[K     |████████████████████████████████| 135 kB 37.1 MB/s \n",
            "\u001b[K     |████████████████████████████████| 1.6 MB 56.4 MB/s \n",
            "\u001b[?25h"
          ]
        }
      ],
      "source": [
        "%pip install -q -U keras-tuner"
      ]
    },
    {
      "cell_type": "code",
      "execution_count": null,
      "metadata": {
        "id": "vi5GQ1vlLelz"
      },
      "outputs": [],
      "source": [
        "# Imports\n",
        "import tensorflow as tf\n",
        "from keras.layers import Dense, Dropout\n",
        "from keras.models import Sequential\n",
        "from keras.datasets import boston_housing\n",
        "from keras import layers\n",
        "from keras.layers import Layer\n",
        "from keras.initializers import Initializer, Constant\n",
        "from sklearn.cluster import KMeans\n",
        "from keras import backend as K\n",
        "from keras.callbacks import EarlyStopping\n",
        "from sklearn.model_selection import train_test_split\n",
        "import matplotlib.pyplot as plt\n",
        "import numpy as np\n",
        "import keras_tuner as kt"
      ]
    },
    {
      "cell_type": "code",
      "execution_count": null,
      "metadata": {
        "id": "o7ZyJ1gZL1ts"
      },
      "outputs": [],
      "source": [
        "# Define custom RBF layer\n",
        "class RBFLayer(Layer): \n",
        "\n",
        "  # Initialization\n",
        "  def __init__(self, output_dim, initializer, betas=1.0, **kwargs):    \n",
        "    self.output_dim = output_dim \n",
        "    self.betas = 1.0\n",
        "    self.initializer = initializer\n",
        "    super(RBFLayer, self).__init__(**kwargs)\n",
        "\n",
        "  def build(self, input_shape): \n",
        "    self.c = self.add_weight(name = 'c', \n",
        "      shape=(self.output_dim, input_shape[1]), \n",
        "      initializer = self.initializer, trainable = False) \n",
        "\n",
        "    d_max = 0\n",
        "    for i in range(0, self.output_dim):\n",
        "      for j in range(0, self.output_dim):\n",
        "          d = np.linalg.norm(self.c[i] - self.c[j])\n",
        "          if d > d_max:\n",
        "              d_max = d\n",
        "\n",
        "    sigma = d_max / np.sqrt(2 * self.output_dim)\n",
        "    self.b = np.ones(self.output_dim) / (2 * (sigma ** 2))\n",
        "\n",
        "    super(RBFLayer, self).build(input_shape)\n",
        "\n",
        "  def call(self, input_data): \n",
        "    C = K.expand_dims(self.c)\n",
        "    H = K.transpose(C-K.transpose(input_data))\n",
        "    return K.exp(-self.b * K.sum(H**2, axis=1))\n",
        "\n",
        "  def compute_output_shape(self, input_shape):\n",
        "      return (input_shape[0], self.output_dim)\n",
        "\n",
        "class InitCentersKMeans(Initializer):\n",
        "    def __init__(self, X, max_iter=100):\n",
        "        self.X = X\n",
        "        self.max_iter = max_iter\n",
        "        super().__init__()\n",
        "\n",
        "    def __call__(self, shape, dtype=None, *args):\n",
        "        assert shape[1] == self.X.shape[1]\n",
        "        n_centers = shape[0]\n",
        "        km = KMeans(n_clusters=n_centers, max_iter=self.max_iter, verbose=0)\n",
        "        km.fit(self.X)\n",
        "        return km.cluster_centers_\n"
      ]
    },
    {
      "cell_type": "code",
      "execution_count": null,
      "metadata": {
        "colab": {
          "base_uri": "https://localhost:8080/"
        },
        "id": "KCCU11TqL39h",
        "outputId": "059c4179-0132-4129-a85a-f02800fc2fa8"
      },
      "outputs": [
        {
          "name": "stdout",
          "output_type": "stream",
          "text": [
            "Downloading data from https://storage.googleapis.com/tensorflow/tf-keras-datasets/boston_housing.npz\n",
            "57344/57026 [==============================] - 0s 0us/step\n",
            "65536/57026 [==================================] - 0s 0us/step\n"
          ]
        }
      ],
      "source": [
        "(X_train, Y_train), (X_test, Y_test) = boston_housing.load_data(test_split=0.25)\n",
        "\n",
        "# Normalize data\n",
        "X_train = (X_train - np.mean(X_train, axis=0)) / np.std(X_train, axis=0)\n",
        "X_test = (X_test - np.mean(X_test, axis=0)) / np.std(X_test, axis=0)"
      ]
    },
    {
      "cell_type": "code",
      "execution_count": null,
      "metadata": {
        "id": "1g-EqdJ9L4fE"
      },
      "outputs": [],
      "source": [
        "def Rsquare(y_true, y_pred):\n",
        "  SS_res =  K.sum(K.square( y_true-y_pred ))\n",
        "  SS_tot = K.sum(K.square( y_true - K.mean(y_true) ) )\n",
        "  return ( 1 - SS_res/(SS_tot + K.epsilon()) )\n",
        "\n",
        "\n",
        "def mse(y_true, y_pred):\n",
        "    return K.mean(K.square(y_pred - y_true))\n",
        "\n",
        "def plot_metrics(history):\n",
        "  # summarize history for loss\n",
        "  plt.plot(history.history['loss'])\n",
        "  plt.plot(history.history['val_loss'])\n",
        "  plt.title('model loss')\n",
        "  plt.ylabel('loss')\n",
        "  plt.xlabel('epoch')\n",
        "  plt.legend(['train', 'test'], loc='upper left')\n",
        "  plt.show()\n",
        "\n",
        "  # summarize history for Rsquare\n",
        "  plt.plot(history.history['Rsquare'])\n",
        "  plt.plot(history.history['val_Rsquare'])\n",
        "  plt.title('model Rsquare error')\n",
        "  plt.ylabel('Rsquare')\n",
        "  plt.xlabel('epoch')\n",
        "  plt.legend(['train', 'test'], loc='upper left')\n",
        "  plt.show()\n",
        "\n",
        "  # summarize history for rmse\n",
        "  plt.plot(history.history['rmse'])\n",
        "  plt.plot(history.history['val_rmse'])\n",
        "  plt.title('model rmse')\n",
        "  plt.ylabel('rmse')\n",
        "  plt.xlabel('epoch')\n",
        "  plt.legend(['train', 'test'], loc='upper left')\n",
        "  plt.show()\n",
        "\n",
        "def build_RBF_model(hp):\n",
        "\n",
        "  model = Sequential()\n",
        "\n",
        "  input_shape = (13,)\n",
        "  train_data = X_train.shape[0]\n",
        "\n",
        "  rbf_neurons_vals = [int(0.05*train_data),int(0.15*train_data),\n",
        "                      int(0.3*train_data),int(0.5*train_data)]\n",
        "\n",
        "  hp_rbf_neurons = hp.Choice('rbf_neurons', values=rbf_neurons_vals)\n",
        "  hp_units_layer_2 = hp.Choice('units', values=[32, 64, 128, 256])\n",
        "  hp_dropout = hp.Choice('dropout', values=[0.2, 0.35, 0.5])\n",
        "\n",
        "  model.add(RBFLayer(hp_rbf_neurons, initializer=InitCentersKMeans(X_train), \n",
        "                      input_shape=input_shape))\n",
        "  model.add(Dense(hp_units_layer_2))\n",
        "  model.add(Dropout(hp_dropout))\n",
        "  model.add(Dense(1))\n",
        "\n",
        "  model.compile(optimizer=tf.keras.optimizers.SGD(learning_rate=0.001), \n",
        "                loss=mse, \n",
        "                metrics=[Rsquare,\n",
        "                         tf.keras.metrics.RootMeanSquaredError(\"rmse\")])\n",
        "  return model"
      ]
    },
    {
      "cell_type": "code",
      "execution_count": null,
      "metadata": {
        "colab": {
          "base_uri": "https://localhost:8080/"
        },
        "id": "un0rhbWRL8sF",
        "outputId": "872d1699-80dc-4991-d84b-dc817f92b827"
      },
      "outputs": [
        {
          "output_type": "stream",
          "name": "stdout",
          "text": [
            "Trial 47 Complete [00h 00m 27s]\n",
            "val_rmse: 24.771787643432617\n",
            "\n",
            "Best val_rmse So Far: 22.182859420776367\n",
            "Total elapsed time: 00h 07m 58s\n",
            "\n",
            "The hyperparameter search is complete. The optimal number of neurons in the RBF\n",
            "layer is 18, in the second layer is 32, the optimal \n",
            "dropout probability is 0.35.\n",
            "\n"
          ]
        }
      ],
      "source": [
        "# Find optimal hyper-parameters using Keras Tuner and Hyperband\n",
        "epochs = 100\n",
        "\n",
        "tuner = kt.Hyperband(build_RBF_model,\n",
        "                     objective=kt.Objective(\"val_rmse\", direction=\"min\"),\n",
        "                     max_epochs=epochs,\n",
        "                     factor=3,\n",
        "                     overwrite=True)\n",
        "\n",
        "\n",
        "tuner.search(X_train, Y_train, epochs=epochs, validation_split=0.2)\n",
        "\n",
        "# Get the optimal hyperparameters\n",
        "best_hps=tuner.get_best_hyperparameters(num_trials=1)[0]\n",
        "\n",
        "print(f\"\"\"\n",
        "The hyperparameter search is complete. The optimal number of neurons in the RBF\n",
        "layer is {best_hps.get('rbf_neurons')}, in the second layer is {best_hps.get('units')}, the optimal \n",
        "dropout probability is {best_hps.get('dropout')}.\n",
        "\"\"\")\n"
      ]
    },
    {
      "cell_type": "code",
      "execution_count": null,
      "metadata": {
        "colab": {
          "base_uri": "https://localhost:8080/"
        },
        "id": "upjIXV-wS4py",
        "outputId": "625cde6f-b5e6-437b-e79b-22fde82e499c"
      },
      "outputs": [
        {
          "output_type": "stream",
          "name": "stdout",
          "text": [
            "Epoch 1/100\n",
            "10/10 [==============================] - 0s 19ms/step - loss: 508.6949 - Rsquare: -6.3329 - rmse: 22.5543 - val_loss: 664.6041 - val_Rsquare: -6.7159 - val_rmse: 25.7799\n",
            "Epoch 2/100\n",
            "10/10 [==============================] - 0s 5ms/step - loss: 418.9517 - Rsquare: -4.8906 - rmse: 20.4683 - val_loss: 534.7047 - val_Rsquare: -4.9678 - val_rmse: 23.1237\n",
            "Epoch 3/100\n",
            "10/10 [==============================] - 0s 5ms/step - loss: 296.3389 - Rsquare: -2.9460 - rmse: 17.2145 - val_loss: 372.9229 - val_Rsquare: -2.8319 - val_rmse: 19.3112\n",
            "Epoch 4/100\n",
            "10/10 [==============================] - 0s 5ms/step - loss: 182.0024 - Rsquare: -1.4518 - rmse: 13.4908 - val_loss: 248.7712 - val_Rsquare: -1.2590 - val_rmse: 15.7725\n",
            "Epoch 5/100\n",
            "10/10 [==============================] - 0s 5ms/step - loss: 116.6980 - Rsquare: -0.5230 - rmse: 10.8027 - val_loss: 190.3728 - val_Rsquare: -0.5797 - val_rmse: 13.7976\n",
            "Epoch 6/100\n",
            "10/10 [==============================] - 0s 7ms/step - loss: 96.6193 - Rsquare: -0.2665 - rmse: 9.8295 - val_loss: 168.4531 - val_Rsquare: -0.3566 - val_rmse: 12.9789\n",
            "Epoch 7/100\n",
            "10/10 [==============================] - 0s 5ms/step - loss: 88.2130 - Rsquare: -0.1922 - rmse: 9.3922 - val_loss: 157.7337 - val_Rsquare: -0.2624 - val_rmse: 12.5592\n",
            "Epoch 8/100\n",
            "10/10 [==============================] - 0s 5ms/step - loss: 86.5252 - Rsquare: -0.1390 - rmse: 9.3019 - val_loss: 152.4825 - val_Rsquare: -0.2204 - val_rmse: 12.3484\n",
            "Epoch 9/100\n",
            "10/10 [==============================] - 0s 5ms/step - loss: 86.7526 - Rsquare: -0.1395 - rmse: 9.3141 - val_loss: 151.7122 - val_Rsquare: -0.2146 - val_rmse: 12.3172\n",
            "Epoch 10/100\n",
            "10/10 [==============================] - 0s 5ms/step - loss: 82.4562 - Rsquare: -0.0791 - rmse: 9.0805 - val_loss: 148.3618 - val_Rsquare: -0.1875 - val_rmse: 12.1804\n",
            "Epoch 11/100\n",
            "10/10 [==============================] - 0s 5ms/step - loss: 79.4650 - Rsquare: -0.0679 - rmse: 8.9143 - val_loss: 143.2759 - val_Rsquare: -0.1477 - val_rmse: 11.9698\n",
            "Epoch 12/100\n",
            "10/10 [==============================] - 0s 5ms/step - loss: 79.5221 - Rsquare: -0.0216 - rmse: 8.9175 - val_loss: 143.1922 - val_Rsquare: -0.1473 - val_rmse: 11.9663\n",
            "Epoch 13/100\n",
            "10/10 [==============================] - 0s 7ms/step - loss: 76.0933 - Rsquare: -0.0119 - rmse: 8.7231 - val_loss: 139.5367 - val_Rsquare: -0.1181 - val_rmse: 11.8126\n",
            "Epoch 14/100\n",
            "10/10 [==============================] - 0s 5ms/step - loss: 79.2449 - Rsquare: -0.0672 - rmse: 8.9020 - val_loss: 135.9061 - val_Rsquare: -0.0897 - val_rmse: 11.6579\n",
            "Epoch 15/100\n",
            "10/10 [==============================] - 0s 5ms/step - loss: 75.1792 - Rsquare: 0.0123 - rmse: 8.6706 - val_loss: 133.2304 - val_Rsquare: -0.0692 - val_rmse: 11.5425\n",
            "Epoch 16/100\n",
            "10/10 [==============================] - 0s 5ms/step - loss: 74.7450 - Rsquare: 0.0448 - rmse: 8.6455 - val_loss: 131.8699 - val_Rsquare: -0.0584 - val_rmse: 11.4835\n",
            "Epoch 17/100\n",
            "10/10 [==============================] - 0s 5ms/step - loss: 75.3226 - Rsquare: 0.0738 - rmse: 8.6789 - val_loss: 129.4416 - val_Rsquare: -0.0395 - val_rmse: 11.3772\n",
            "Epoch 18/100\n",
            "10/10 [==============================] - 0s 5ms/step - loss: 72.9269 - Rsquare: 0.0662 - rmse: 8.5397 - val_loss: 126.6279 - val_Rsquare: -0.0177 - val_rmse: 11.2529\n",
            "Epoch 19/100\n",
            "10/10 [==============================] - 0s 5ms/step - loss: 67.5630 - Rsquare: 0.0936 - rmse: 8.2197 - val_loss: 123.8137 - val_Rsquare: 0.0033 - val_rmse: 11.1272\n",
            "Epoch 20/100\n",
            "10/10 [==============================] - 0s 5ms/step - loss: 69.0326 - Rsquare: 0.1123 - rmse: 8.3086 - val_loss: 122.4791 - val_Rsquare: 0.0139 - val_rmse: 11.0670\n",
            "Epoch 21/100\n",
            "10/10 [==============================] - 0s 5ms/step - loss: 68.3860 - Rsquare: 0.1215 - rmse: 8.2696 - val_loss: 120.7299 - val_Rsquare: 0.0281 - val_rmse: 10.9877\n",
            "Epoch 22/100\n",
            "10/10 [==============================] - 0s 5ms/step - loss: 67.0007 - Rsquare: 0.1263 - rmse: 8.1854 - val_loss: 120.2962 - val_Rsquare: 0.0322 - val_rmse: 10.9680\n",
            "Epoch 23/100\n",
            "10/10 [==============================] - 0s 5ms/step - loss: 64.1596 - Rsquare: 0.1631 - rmse: 8.0100 - val_loss: 121.0420 - val_Rsquare: 0.0268 - val_rmse: 11.0019\n",
            "Epoch 24/100\n",
            "10/10 [==============================] - 0s 6ms/step - loss: 64.3723 - Rsquare: 0.0975 - rmse: 8.0232 - val_loss: 116.8792 - val_Rsquare: 0.0594 - val_rmse: 10.8111\n",
            "Epoch 25/100\n",
            "10/10 [==============================] - 0s 5ms/step - loss: 59.7831 - Rsquare: 0.2076 - rmse: 7.7320 - val_loss: 115.6376 - val_Rsquare: 0.0693 - val_rmse: 10.7535\n",
            "Epoch 26/100\n",
            "10/10 [==============================] - 0s 5ms/step - loss: 60.6834 - Rsquare: 0.2508 - rmse: 7.7900 - val_loss: 112.2206 - val_Rsquare: 0.0942 - val_rmse: 10.5934\n",
            "Epoch 27/100\n",
            "10/10 [==============================] - 0s 6ms/step - loss: 58.3984 - Rsquare: 0.1907 - rmse: 7.6419 - val_loss: 113.7906 - val_Rsquare: 0.0835 - val_rmse: 10.6673\n",
            "Epoch 28/100\n",
            "10/10 [==============================] - 0s 5ms/step - loss: 59.2559 - Rsquare: 0.2127 - rmse: 7.6978 - val_loss: 111.0055 - val_Rsquare: 0.1055 - val_rmse: 10.5359\n",
            "Epoch 29/100\n",
            "10/10 [==============================] - 0s 5ms/step - loss: 64.5170 - Rsquare: 0.1381 - rmse: 8.0322 - val_loss: 108.0107 - val_Rsquare: 0.1277 - val_rmse: 10.3928\n",
            "Epoch 30/100\n",
            "10/10 [==============================] - 0s 6ms/step - loss: 58.5051 - Rsquare: 0.2379 - rmse: 7.6489 - val_loss: 109.6888 - val_Rsquare: 0.1171 - val_rmse: 10.4732\n",
            "Epoch 31/100\n",
            "10/10 [==============================] - 0s 5ms/step - loss: 58.6436 - Rsquare: 0.2408 - rmse: 7.6579 - val_loss: 107.1696 - val_Rsquare: 0.1368 - val_rmse: 10.3523\n",
            "Epoch 32/100\n",
            "10/10 [==============================] - 0s 7ms/step - loss: 55.6464 - Rsquare: 0.2749 - rmse: 7.4596 - val_loss: 103.8476 - val_Rsquare: 0.1604 - val_rmse: 10.1906\n",
            "Epoch 33/100\n",
            "10/10 [==============================] - 0s 5ms/step - loss: 53.1564 - Rsquare: 0.2989 - rmse: 7.2908 - val_loss: 105.8246 - val_Rsquare: 0.1490 - val_rmse: 10.2871\n",
            "Epoch 34/100\n",
            "10/10 [==============================] - 0s 5ms/step - loss: 58.4426 - Rsquare: 0.1945 - rmse: 7.6448 - val_loss: 100.0354 - val_Rsquare: 0.1884 - val_rmse: 10.0018\n",
            "Epoch 35/100\n",
            "10/10 [==============================] - 0s 6ms/step - loss: 56.4581 - Rsquare: 0.2240 - rmse: 7.5139 - val_loss: 98.9035 - val_Rsquare: 0.1972 - val_rmse: 9.9450\n",
            "Epoch 36/100\n",
            "10/10 [==============================] - 0s 5ms/step - loss: 56.8108 - Rsquare: 0.2263 - rmse: 7.5373 - val_loss: 102.2030 - val_Rsquare: 0.1776 - val_rmse: 10.1096\n",
            "Epoch 37/100\n",
            "10/10 [==============================] - 0s 5ms/step - loss: 55.5616 - Rsquare: 0.2483 - rmse: 7.4540 - val_loss: 100.8877 - val_Rsquare: 0.1883 - val_rmse: 10.0443\n",
            "Epoch 38/100\n",
            "10/10 [==============================] - 0s 5ms/step - loss: 53.7615 - Rsquare: 0.2806 - rmse: 7.3322 - val_loss: 99.7464 - val_Rsquare: 0.1979 - val_rmse: 9.9873\n",
            "Epoch 39/100\n",
            "10/10 [==============================] - 0s 5ms/step - loss: 55.1035 - Rsquare: 0.2893 - rmse: 7.4232 - val_loss: 95.8916 - val_Rsquare: 0.2242 - val_rmse: 9.7924\n",
            "Epoch 40/100\n",
            "10/10 [==============================] - 0s 6ms/step - loss: 51.1147 - Rsquare: 0.2642 - rmse: 7.1495 - val_loss: 96.8975 - val_Rsquare: 0.2194 - val_rmse: 9.8437\n",
            "Epoch 41/100\n",
            "10/10 [==============================] - 0s 5ms/step - loss: 52.7472 - Rsquare: 0.3109 - rmse: 7.2627 - val_loss: 96.4589 - val_Rsquare: 0.2238 - val_rmse: 9.8214\n",
            "Epoch 42/100\n",
            "10/10 [==============================] - 0s 5ms/step - loss: 56.5943 - Rsquare: 0.2828 - rmse: 7.5229 - val_loss: 94.6904 - val_Rsquare: 0.2374 - val_rmse: 9.7309\n",
            "Epoch 43/100\n",
            "10/10 [==============================] - 0s 5ms/step - loss: 48.7695 - Rsquare: 0.2905 - rmse: 6.9835 - val_loss: 93.3851 - val_Rsquare: 0.2471 - val_rmse: 9.6636\n",
            "Epoch 44/100\n",
            "10/10 [==============================] - 0s 5ms/step - loss: 50.7060 - Rsquare: 0.3449 - rmse: 7.1208 - val_loss: 93.2655 - val_Rsquare: 0.2492 - val_rmse: 9.6574\n",
            "Epoch 45/100\n",
            "10/10 [==============================] - 0s 5ms/step - loss: 49.4547 - Rsquare: 0.3499 - rmse: 7.0324 - val_loss: 91.9371 - val_Rsquare: 0.2593 - val_rmse: 9.5884\n",
            "Epoch 46/100\n",
            "10/10 [==============================] - 0s 5ms/step - loss: 49.3513 - Rsquare: 0.3345 - rmse: 7.0250 - val_loss: 88.8427 - val_Rsquare: 0.2785 - val_rmse: 9.4256\n",
            "Epoch 47/100\n",
            "10/10 [==============================] - 0s 5ms/step - loss: 42.7159 - Rsquare: 0.4025 - rmse: 6.5357 - val_loss: 91.2886 - val_Rsquare: 0.2669 - val_rmse: 9.5545\n",
            "Epoch 48/100\n",
            "10/10 [==============================] - 0s 5ms/step - loss: 51.6353 - Rsquare: 0.3225 - rmse: 7.1858 - val_loss: 88.7473 - val_Rsquare: 0.2839 - val_rmse: 9.4206\n",
            "Epoch 49/100\n",
            "10/10 [==============================] - 0s 5ms/step - loss: 49.7682 - Rsquare: 0.3095 - rmse: 7.0547 - val_loss: 89.6082 - val_Rsquare: 0.2800 - val_rmse: 9.4662\n",
            "Epoch 50/100\n",
            "10/10 [==============================] - 0s 5ms/step - loss: 43.8239 - Rsquare: 0.4081 - rmse: 6.6200 - val_loss: 91.1373 - val_Rsquare: 0.2704 - val_rmse: 9.5466\n",
            "Epoch 51/100\n",
            "10/10 [==============================] - 0s 5ms/step - loss: 49.1920 - Rsquare: 0.3522 - rmse: 7.0137 - val_loss: 88.2008 - val_Rsquare: 0.2915 - val_rmse: 9.3915\n",
            "Epoch 52/100\n",
            "10/10 [==============================] - 0s 5ms/step - loss: 46.4725 - Rsquare: 0.3776 - rmse: 6.8171 - val_loss: 88.7971 - val_Rsquare: 0.2888 - val_rmse: 9.4232\n",
            "Epoch 53/100\n",
            "10/10 [==============================] - 0s 6ms/step - loss: 46.9149 - Rsquare: 0.3912 - rmse: 6.8494 - val_loss: 86.7665 - val_Rsquare: 0.3023 - val_rmse: 9.3149\n",
            "Epoch 54/100\n",
            "10/10 [==============================] - 0s 5ms/step - loss: 43.4560 - Rsquare: 0.3468 - rmse: 6.5921 - val_loss: 86.1432 - val_Rsquare: 0.3074 - val_rmse: 9.2813\n",
            "Epoch 55/100\n",
            "10/10 [==============================] - 0s 5ms/step - loss: 48.0299 - Rsquare: 0.3743 - rmse: 6.9304 - val_loss: 83.5694 - val_Rsquare: 0.3226 - val_rmse: 9.1416\n",
            "Epoch 56/100\n",
            "10/10 [==============================] - 0s 5ms/step - loss: 46.4427 - Rsquare: 0.3706 - rmse: 6.8149 - val_loss: 84.8460 - val_Rsquare: 0.3181 - val_rmse: 9.2112\n",
            "Epoch 57/100\n",
            "10/10 [==============================] - 0s 5ms/step - loss: 50.3826 - Rsquare: 0.3235 - rmse: 7.0981 - val_loss: 83.8780 - val_Rsquare: 0.3255 - val_rmse: 9.1585\n",
            "Epoch 58/100\n",
            "10/10 [==============================] - 0s 5ms/step - loss: 46.9235 - Rsquare: 0.3473 - rmse: 6.8501 - val_loss: 83.1345 - val_Rsquare: 0.3319 - val_rmse: 9.1178\n",
            "Epoch 59/100\n",
            "10/10 [==============================] - 0s 5ms/step - loss: 44.1508 - Rsquare: 0.4346 - rmse: 6.6446 - val_loss: 82.6853 - val_Rsquare: 0.3349 - val_rmse: 9.0931\n",
            "Epoch 60/100\n",
            "10/10 [==============================] - 0s 5ms/step - loss: 40.4907 - Rsquare: 0.4823 - rmse: 6.3632 - val_loss: 82.6181 - val_Rsquare: 0.3358 - val_rmse: 9.0895\n",
            "Epoch 61/100\n",
            "10/10 [==============================] - 0s 5ms/step - loss: 46.1920 - Rsquare: 0.4238 - rmse: 6.7965 - val_loss: 82.3685 - val_Rsquare: 0.3378 - val_rmse: 9.0757\n",
            "Epoch 62/100\n",
            "10/10 [==============================] - 0s 7ms/step - loss: 43.5307 - Rsquare: 0.3978 - rmse: 6.5978 - val_loss: 82.9853 - val_Rsquare: 0.3353 - val_rmse: 9.1096\n",
            "Epoch 63/100\n",
            "10/10 [==============================] - 0s 5ms/step - loss: 49.4524 - Rsquare: 0.3142 - rmse: 7.0322 - val_loss: 81.9141 - val_Rsquare: 0.3423 - val_rmse: 9.0506\n",
            "Epoch 64/100\n",
            "10/10 [==============================] - 0s 5ms/step - loss: 46.2568 - Rsquare: 0.3914 - rmse: 6.8012 - val_loss: 81.3415 - val_Rsquare: 0.3469 - val_rmse: 9.0190\n",
            "Epoch 65/100\n",
            "10/10 [==============================] - 0s 5ms/step - loss: 42.3848 - Rsquare: 0.4368 - rmse: 6.5104 - val_loss: 77.8583 - val_Rsquare: 0.3648 - val_rmse: 8.8237\n",
            "Epoch 66/100\n",
            "10/10 [==============================] - 0s 5ms/step - loss: 44.3366 - Rsquare: 0.3830 - rmse: 6.6586 - val_loss: 81.0529 - val_Rsquare: 0.3503 - val_rmse: 9.0029\n",
            "Epoch 67/100\n",
            "10/10 [==============================] - 0s 5ms/step - loss: 43.0338 - Rsquare: 0.4333 - rmse: 6.5600 - val_loss: 81.4343 - val_Rsquare: 0.3478 - val_rmse: 9.0241\n",
            "Epoch 68/100\n",
            "10/10 [==============================] - 0s 5ms/step - loss: 43.9553 - Rsquare: 0.4312 - rmse: 6.6299 - val_loss: 80.8103 - val_Rsquare: 0.3521 - val_rmse: 8.9895\n",
            "Epoch 69/100\n",
            "10/10 [==============================] - 0s 5ms/step - loss: 42.2850 - Rsquare: 0.4287 - rmse: 6.5027 - val_loss: 80.2486 - val_Rsquare: 0.3557 - val_rmse: 8.9582\n",
            "Epoch 70/100\n",
            "10/10 [==============================] - 0s 6ms/step - loss: 44.5922 - Rsquare: 0.4111 - rmse: 6.6777 - val_loss: 79.2693 - val_Rsquare: 0.3621 - val_rmse: 8.9033\n",
            "Epoch 71/100\n",
            "10/10 [==============================] - 0s 5ms/step - loss: 46.4467 - Rsquare: 0.3767 - rmse: 6.8152 - val_loss: 78.6051 - val_Rsquare: 0.3668 - val_rmse: 8.8660\n",
            "Epoch 72/100\n",
            "10/10 [==============================] - 0s 5ms/step - loss: 42.7033 - Rsquare: 0.4109 - rmse: 6.5348 - val_loss: 77.2559 - val_Rsquare: 0.3744 - val_rmse: 8.7895\n",
            "Epoch 73/100\n",
            "10/10 [==============================] - 0s 5ms/step - loss: 42.6076 - Rsquare: 0.3803 - rmse: 6.5275 - val_loss: 78.7552 - val_Rsquare: 0.3680 - val_rmse: 8.8744\n",
            "Epoch 74/100\n",
            "10/10 [==============================] - 0s 5ms/step - loss: 45.8357 - Rsquare: 0.3830 - rmse: 6.7702 - val_loss: 78.0201 - val_Rsquare: 0.3737 - val_rmse: 8.8329\n",
            "Epoch 75/100\n",
            "10/10 [==============================] - 0s 5ms/step - loss: 46.7336 - Rsquare: 0.3644 - rmse: 6.8362 - val_loss: 76.7984 - val_Rsquare: 0.3816 - val_rmse: 8.7635\n",
            "Epoch 76/100\n",
            "10/10 [==============================] - 0s 5ms/step - loss: 40.4962 - Rsquare: 0.4524 - rmse: 6.3637 - val_loss: 75.7977 - val_Rsquare: 0.3880 - val_rmse: 8.7062\n",
            "Epoch 77/100\n",
            "10/10 [==============================] - 0s 5ms/step - loss: 42.0833 - Rsquare: 0.4593 - rmse: 6.4872 - val_loss: 75.3005 - val_Rsquare: 0.3909 - val_rmse: 8.6776\n",
            "Epoch 78/100\n",
            "10/10 [==============================] - 0s 7ms/step - loss: 45.4178 - Rsquare: 0.4147 - rmse: 6.7393 - val_loss: 73.9589 - val_Rsquare: 0.3975 - val_rmse: 8.5999\n",
            "Epoch 79/100\n",
            "10/10 [==============================] - 0s 5ms/step - loss: 43.1230 - Rsquare: 0.4155 - rmse: 6.5668 - val_loss: 74.7516 - val_Rsquare: 0.3962 - val_rmse: 8.6459\n",
            "Epoch 80/100\n",
            "10/10 [==============================] - 0s 5ms/step - loss: 40.4619 - Rsquare: 0.4389 - rmse: 6.3610 - val_loss: 76.1098 - val_Rsquare: 0.3901 - val_rmse: 8.7241\n",
            "Epoch 81/100\n",
            "10/10 [==============================] - 0s 5ms/step - loss: 47.9145 - Rsquare: 0.3576 - rmse: 6.9220 - val_loss: 74.3561 - val_Rsquare: 0.4006 - val_rmse: 8.6230\n",
            "Epoch 82/100\n",
            "10/10 [==============================] - 0s 5ms/step - loss: 40.5124 - Rsquare: 0.4410 - rmse: 6.3649 - val_loss: 72.0610 - val_Rsquare: 0.4096 - val_rmse: 8.4889\n",
            "Epoch 83/100\n",
            "10/10 [==============================] - 0s 5ms/step - loss: 45.4953 - Rsquare: 0.4086 - rmse: 6.7450 - val_loss: 73.8833 - val_Rsquare: 0.4039 - val_rmse: 8.5955\n",
            "Epoch 84/100\n",
            "10/10 [==============================] - 0s 5ms/step - loss: 37.7539 - Rsquare: 0.4597 - rmse: 6.1444 - val_loss: 73.1458 - val_Rsquare: 0.4070 - val_rmse: 8.5525\n",
            "Epoch 85/100\n",
            "10/10 [==============================] - 0s 5ms/step - loss: 41.3264 - Rsquare: 0.4289 - rmse: 6.4286 - val_loss: 73.2616 - val_Rsquare: 0.4081 - val_rmse: 8.5593\n",
            "Epoch 86/100\n",
            "10/10 [==============================] - 0s 5ms/step - loss: 41.4967 - Rsquare: 0.4447 - rmse: 6.4418 - val_loss: 73.2524 - val_Rsquare: 0.4097 - val_rmse: 8.5588\n",
            "Epoch 87/100\n",
            "10/10 [==============================] - 0s 5ms/step - loss: 47.7246 - Rsquare: 0.3521 - rmse: 6.9083 - val_loss: 72.8044 - val_Rsquare: 0.4126 - val_rmse: 8.5325\n",
            "Epoch 88/100\n",
            "10/10 [==============================] - 0s 6ms/step - loss: 42.5264 - Rsquare: 0.4687 - rmse: 6.5212 - val_loss: 73.3862 - val_Rsquare: 0.4102 - val_rmse: 8.5666\n",
            "Epoch 89/100\n",
            "10/10 [==============================] - 0s 5ms/step - loss: 42.3176 - Rsquare: 0.4244 - rmse: 6.5052 - val_loss: 72.3764 - val_Rsquare: 0.4163 - val_rmse: 8.5074\n",
            "Epoch 90/100\n",
            "10/10 [==============================] - 0s 5ms/step - loss: 37.4206 - Rsquare: 0.5002 - rmse: 6.1172 - val_loss: 70.1537 - val_Rsquare: 0.4261 - val_rmse: 8.3758\n",
            "Epoch 91/100\n",
            "10/10 [==============================] - 0s 5ms/step - loss: 41.9435 - Rsquare: 0.4622 - rmse: 6.4764 - val_loss: 70.6906 - val_Rsquare: 0.4252 - val_rmse: 8.4078\n",
            "Epoch 92/100\n",
            "10/10 [==============================] - 0s 5ms/step - loss: 43.6234 - Rsquare: 0.4159 - rmse: 6.6048 - val_loss: 70.3344 - val_Rsquare: 0.4279 - val_rmse: 8.3866\n",
            "Epoch 93/100\n",
            "10/10 [==============================] - 0s 5ms/step - loss: 42.1699 - Rsquare: 0.4549 - rmse: 6.4938 - val_loss: 72.5338 - val_Rsquare: 0.4177 - val_rmse: 8.5167\n",
            "Epoch 94/100\n",
            "10/10 [==============================] - 0s 5ms/step - loss: 45.3853 - Rsquare: 0.4018 - rmse: 6.7369 - val_loss: 72.3488 - val_Rsquare: 0.4194 - val_rmse: 8.5058\n",
            "Epoch 95/100\n",
            "10/10 [==============================] - 0s 5ms/step - loss: 41.6035 - Rsquare: 0.4449 - rmse: 6.4501 - val_loss: 71.8440 - val_Rsquare: 0.4236 - val_rmse: 8.4761\n",
            "Epoch 96/100\n",
            "10/10 [==============================] - 0s 5ms/step - loss: 38.3299 - Rsquare: 0.4787 - rmse: 6.1911 - val_loss: 69.1140 - val_Rsquare: 0.4362 - val_rmse: 8.3135\n",
            "Epoch 97/100\n",
            "10/10 [==============================] - 0s 5ms/step - loss: 40.8183 - Rsquare: 0.4458 - rmse: 6.3889 - val_loss: 70.1763 - val_Rsquare: 0.4324 - val_rmse: 8.3771\n",
            "Epoch 98/100\n",
            "10/10 [==============================] - 0s 7ms/step - loss: 40.8787 - Rsquare: 0.4578 - rmse: 6.3936 - val_loss: 68.4293 - val_Rsquare: 0.4393 - val_rmse: 8.2722\n",
            "Epoch 99/100\n",
            "10/10 [==============================] - 0s 5ms/step - loss: 37.2121 - Rsquare: 0.5015 - rmse: 6.1002 - val_loss: 69.6224 - val_Rsquare: 0.4359 - val_rmse: 8.3440\n",
            "Epoch 100/100\n",
            "10/10 [==============================] - 0s 5ms/step - loss: 37.2309 - Rsquare: 0.4982 - rmse: 6.1017 - val_loss: 69.5012 - val_Rsquare: 0.4379 - val_rmse: 8.3367\n"
          ]
        }
      ],
      "source": [
        "# Train optimal model\n",
        "hypermodel = tuner.hypermodel.build(best_hps)\n",
        "\n",
        "history = hypermodel.fit(X_train, Y_train, epochs=epochs, validation_split=0.2)"
      ]
    },
    {
      "cell_type": "code",
      "execution_count": null,
      "metadata": {
        "colab": {
          "base_uri": "https://localhost:8080/",
          "height": 1000
        },
        "id": "7pj3wurhUW0Y",
        "outputId": "b231ec7a-2fd8-40ec-f078-e8b2e6208eb2"
      },
      "outputs": [
        {
          "output_type": "display_data",
          "data": {
            "text/plain": [
              "<Figure size 432x288 with 1 Axes>"
            ],
            "image/png": "[encoded data removed]"
          },
          "metadata": {
            "needs_background": "light"
          }
        },
        {
          "output_type": "display_data",
          "data": {
            "text/plain": [
              "<Figure size 432x288 with 1 Axes>"
            ],
            "image/png": "[encoded data removed]"
          },
          "metadata": {
            "needs_background": "light"
          }
        },
        {
          "output_type": "display_data",
          "data": {
            "text/plain": [
              "<Figure size 432x288 with 1 Axes>"
            ],
            "image/png": "[encoded data removed]"
          },
          "metadata": {
            "needs_background": "light"
          }
        },
        {
          "output_type": "stream",
          "name": "stdout",
          "text": [
            "4/4 [==============================] - 0s 3ms/step - loss: 33.4709 - Rsquare: 0.5524 - rmse: 5.7854\n",
            "\n",
            "Results on test data, using optimal hyperparameters\n",
            "\n",
            "MSE     : 33.470882415771484\n",
            "\n",
            "R^2     : 0.5523514747619629\n",
            "\n",
            "RMSE    : 5.785402774810791\n",
            "\n"
          ]
        }
      ],
      "source": [
        "# Plot metrics and scores on the test dataset for the final model\n",
        "plot_metrics(history)\n",
        "\n",
        "results = hypermodel.evaluate(X_test, Y_test)\n",
        "\n",
        "print(f\"\"\"\n",
        "Results on test data, using optimal hyperparameters\\n\n",
        "MSE     : {results[0]}\\n\n",
        "R^2     : {results[1]}\\n\n",
        "RMSE    : {results[2]}\n",
        "\"\"\")"
      ]
    },
    {
      "cell_type": "code",
      "source": [],
      "metadata": {
        "id": "t6FvumwfT0Un"
      },
      "execution_count": null,
      "outputs": []
    }
  ],
  "metadata": {
    "accelerator": "GPU",
    "colab": {
      "collapsed_sections": [],
      "provenance": []
    },
    "kernelspec": {
      "display_name": "Python 3",
      "name": "python3"
    },
    "language_info": {
      "name": "python"
    }
  },
  "nbformat": 4,
  "nbformat_minor": 0
}